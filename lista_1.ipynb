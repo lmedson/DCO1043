{
 "cells": [
  {
   "cell_type": "code",
   "execution_count": 1,
   "metadata": {},
   "outputs": [
    {
     "name": "stdout",
     "output_type": "stream",
     "text": [
      "Média dos números da lista: 791.52\n",
      "Soma dos números da lista: 79152\n",
      "\n",
      "Lista em ordem crescente: [12, 24, 48, 68, 72, 140, 142, 145, 237, 245, 268, 274, 274, 287, 289, 309, 347, 366, 381, 386, 391, 437, 447, 452, 455, 463, 480, 496, 563, 568, 571, 587, 603, 623, 646, 647, 651, 665, 668, 679, 683, 692, 707, 717, 727, 738, 738, 742, 746, 802, 806, 815, 815, 824, 829, 836, 871, 878, 903, 913, 957, 969, 994, 1026, 1032, 1035, 1040, 1041, 1050, 1054, 1054, 1074, 1085, 1106, 1125, 1138, 1164, 1201, 1205, 1221, 1222, 1223, 1232, 1232, 1239, 1297, 1321, 1327, 1328, 1330, 1334, 1336, 1351, 1353, 1364, 1366, 1369, 1387, 1389, 1393]\n",
      "\n",
      "Lista em ordem decrescente: [1393, 1389, 1387, 1369, 1366, 1364, 1353, 1351, 1336, 1334, 1330, 1328, 1327, 1321, 1297, 1239, 1232, 1232, 1223, 1222, 1221, 1205, 1201, 1164, 1138, 1125, 1106, 1085, 1074, 1054, 1054, 1050, 1041, 1040, 1035, 1032, 1026, 994, 969, 957, 913, 903, 878, 871, 836, 829, 824, 815, 815, 806, 802, 746, 742, 738, 738, 727, 717, 707, 692, 683, 679, 668, 665, 651, 647, 646, 623, 603, 587, 571, 568, 563, 496, 480, 463, 455, 452, 447, 437, 391, 386, 381, 366, 347, 309, 289, 287, 274, 274, 268, 245, 237, 145, 142, 140, 72, 68, 48, 24, 12]\n",
      "\n",
      " Maior e menor elementos da lista: (1393, 12)\n"
     ]
    }
   ],
   "source": [
    "\"\"\"\n",
    "1. Implemente uma lista com os 100 números inteiros aleatórios gerados no momento da\n",
    "execução e apresente:\n",
    "o A média dos números. \n",
    "o A soma de todos os elementos da lista. \n",
    "o 10 elementos da lista de forma aleatória. \n",
    "o A lista em ordem decrescente. \n",
    "o O maior e o menor número da lista. \n",
    "\"\"\"\n",
    "from random import randint \n",
    "import pandas as pd\n",
    "import numpy as np\n",
    "\n",
    "lista = []\n",
    "for i in range(100):\n",
    "    lista.append(randint(0,1400))\n",
    "        \n",
    "def media(lista):\n",
    "    return sum(lista)/len(lista)\n",
    "\n",
    "def sum_list(lista):\n",
    "    return sum(lista)\n",
    "\n",
    "def ordem_crescente(lista):\n",
    "    crescente = lista.sort()\n",
    "    return crescente\n",
    "\n",
    "def ordem_decrescente(lista):\n",
    "    decrescente = lista.sort(reverse=True)\n",
    "    return decrescente\n",
    "\n",
    "def maior_menor(lista):\n",
    "    maior = max(lista)\n",
    "    menor = min(lista)\n",
    "    return maior,menor\n",
    "    \n",
    "# lista = List_operations(list)\n",
    "print(\"Média dos números da lista:\", media(lista))\n",
    "print(\"Soma dos números da lista:\", sum_list(lista))\n",
    "lista.sort()\n",
    "print(\"\\nLista em ordem crescente:\", lista)\n",
    "lista.sort(reverse=True)\n",
    "print(\"\\nLista em ordem decrescente:\", lista)\n",
    "print(\"\\n Maior e menor elementos da lista:\", maior_menor(lista))"
   ]
  },
  {
   "cell_type": "code",
   "execution_count": 2,
   "metadata": {},
   "outputs": [
    {
     "name": "stdout",
     "output_type": "stream",
     "text": [
      "Imprimindo de 1 a 200 na ordem decrescente:  [200, 199, 198, 197, 196, 195, 194, 193, 192, 191, 190, 189, 188, 187, 186, 185, 184, 183, 182, 181, 180, 179, 178, 177, 176, 175, 174, 173, 172, 171, 170, 169, 168, 167, 166, 165, 164, 163, 162, 161, 160, 159, 158, 157, 156, 155, 154, 153, 152, 151, 150, 149, 148, 147, 146, 145, 144, 143, 142, 141, 140, 139, 138, 137, 136, 135, 134, 133, 132, 131, 130, 129, 128, 127, 126, 125, 124, 123, 122, 121, 120, 119, 118, 117, 116, 115, 114, 113, 112, 111, 110, 109, 108, 107, 106, 105, 104, 103, 102, 101, 100, 99, 98, 97, 96, 95, 94, 93, 92, 91, 90, 89, 88, 87, 86, 85, 84, 83, 82, 81, 80, 79, 78, 77, 76, 75, 74, 73, 72, 71, 70, 69, 68, 67, 66, 65, 64, 63, 62, 61, 60, 59, 58, 57, 56, 55, 54, 53, 52, 51, 50, 49, 48, 47, 46, 45, 44, 43, 42, 41, 40, 39, 38, 37, 36, 35, 34, 33, 32, 31, 30, 29, 28, 27, 26, 25, 24, 23, 22, 21, 20, 19, 18, 17, 16, 15, 14, 13, 12, 11, 10, 9, 8, 7, 6, 5, 4, 3, 2, 1]\n"
     ]
    }
   ],
   "source": [
    "\"\"\"\n",
    "2. Escreva um programa que coloque os números de 1 a 200 na tela na ordem inversa (iniciando\n",
    "em 200 e terminando em 1).\n",
    "\"\"\"\n",
    "\n",
    "print(\"Imprimindo de 1 a 200 na ordem decrescente: \", [i for i in reversed(range(1,201))])"
   ]
  },
  {
   "cell_type": "code",
   "execution_count": 3,
   "metadata": {},
   "outputs": [
    {
     "name": "stdout",
     "output_type": "stream",
     "text": [
      "10\n",
      "A área do círculo é 314.0 unidades de área \n"
     ]
    }
   ],
   "source": [
    "\"\"\"\n",
    "3. Escreva um programa que a partir de um número fornecido pelo usuário que correspondente\n",
    "ao raio de um círculo apresente área do círculo.\n",
    "\n",
    "Equação da área do círculo A = πr2.\n",
    "Valor da constante Π = 3.14\n",
    "\"\"\"\n",
    "\n",
    "def area_do_circulo():\n",
    "    raio = float(input())\n",
    "    \n",
    "    if raio < 0:\n",
    "        return \"Valor do raio inválido, digite novamente\"\n",
    "    return 3.14*(raio**2) \n",
    "\n",
    "print(\"A área do círculo é {} unidades de área \".format(area_do_circulo()))"
   ]
  },
  {
   "cell_type": "markdown",
   "metadata": {},
   "source": [
    "<img src=\"./diagrama_atividades.png\" title=\"Diagrama de atividades numero primo\" />"
   ]
  },
  {
   "cell_type": "code",
   "execution_count": 4,
   "metadata": {},
   "outputs": [
    {
     "name": "stdout",
     "output_type": "stream",
     "text": [
      "Digite um númmero para checar se é primo:\n",
      "17\n",
      "\n",
      "O número 17 É primo\n"
     ]
    }
   ],
   "source": [
    "\"\"\"\n",
    "5. A partir do item 4 da lista faça um programa que implemente o diagrama construído.\n",
    "\"\"\"\n",
    "\n",
    "def definir_primo(numero):\n",
    "    numero = int(numero)\n",
    "    total = 0\n",
    "    for i in range(1,numero+1):\n",
    "        if numero % i == 0 :\n",
    "            total += 1\n",
    "    eh_primo = False if total > 2 else True\n",
    "    return eh_primo\n",
    "\n",
    "print(\"Digite um númmero para checar se é primo:\")\n",
    "\n",
    "numero = input()\n",
    "msg = \"\"\n",
    "\n",
    "if definir_primo(numero):\n",
    "    msg = \"É primo\"\n",
    "else:\n",
    "    msg = \"Não é primo\"\n",
    "    \n",
    "print(\"\\nO número {} {}\".format(numero, msg))"
   ]
  },
  {
   "cell_type": "code",
   "execution_count": 5,
   "metadata": {},
   "outputs": [
    {
     "name": "stdout",
     "output_type": "stream",
     "text": [
      "Os 100 primeiros numeros primos são [1, 2, 3, 5, 7, 11, 13, 17, 19, 23, 29, 31, 37, 41, 43, 47, 53, 59, 61, 67, 71, 73, 79, 83, 89, 97, 101, 103, 107, 109, 113, 127, 131, 137, 139, 149, 151, 157, 163, 167, 173, 179, 181, 191, 193, 197, 199, 211, 223, 227, 229, 233, 239, 241, 251, 257, 263, 269, 271, 277, 281, 283, 293, 307, 311, 313, 317, 331, 337, 347, 349, 353, 359, 367, 373, 379, 383, 389, 397, 401, 409, 419, 421, 431, 433, 439, 443, 449, 457, 461, 463, 467, 479, 487, 491, 499, 503, 509, 521, 523]\n"
     ]
    }
   ],
   "source": [
    "\"\"\"\n",
    "6 - Escreva um programa que gere os 100 primeiros números primos e apresente-os em ordem\n",
    "crescente.\n",
    "\"\"\"\n",
    "\n",
    "def first_primes(num,atual=0):\n",
    "    lista = []\n",
    "    quantidade_primos = 0\n",
    "    while quantidade_primos < num:\n",
    "        atual += 1\n",
    "        if definir_primo(atual):\n",
    "            lista.append(atual)\n",
    "            quantidade_primos+=1\n",
    "    return lista\n",
    "\n",
    "primos = first_primes(100)\n",
    "\n",
    "print(\"Os {} primeiros numeros primos são {}\".format(len(primos), primos))"
   ]
  },
  {
   "cell_type": "code",
   "execution_count": 6,
   "metadata": {},
   "outputs": [
    {
     "name": "stdout",
     "output_type": "stream",
     "text": [
      "A soma dos 20 primeiros primos acima de 100 é: 2968 \n"
     ]
    }
   ],
   "source": [
    "\"\"\"\n",
    "7 - Escreva um programa que gere 20 números primos maiores que 100, sem repetições. A partir\n",
    "desta geração apresente a soma destes números.\n",
    "\"\"\"\n",
    "lista_primos = first_primes(20,100)\n",
    "\n",
    "print(\"A soma dos {} primeiros primos acima de 100 é: {} \".format(len(lista_primos), sum(lista_primos)))\n"
   ]
  },
  {
   "cell_type": "code",
   "execution_count": 7,
   "metadata": {},
   "outputs": [
    {
     "name": "stdout",
     "output_type": "stream",
     "text": [
      "Valor total a ser pago pela quantidade de produtos 0001 é 1253.0\n"
     ]
    }
   ],
   "source": [
    "\"\"\"\n",
    "8. Escreva um programa que lê o código de um produto, o preço e a quantidade comprada,\n",
    "apresentando o código do produto comprado e o valor total a ser pago, considerando que são\n",
    "oferecidos descontos pelo número de unidades compradas, segundo a descrição:\n",
    "Até 100 unidades: valor total\n",
    "De 101 a 500 unidades: 10% de desconto\n",
    "Acima de 501 unidades: 35% de desconto\n",
    "\"\"\"\n",
    "\n",
    "class Produto():\n",
    "    def __init__(self, codigo, preco, quantidade=0):\n",
    "        self.codigo = codigo\n",
    "        self.preco = preco\n",
    "        self.quantidade = quantidade\n",
    "    \n",
    "    def calcula_desconto(self, taxa):\n",
    "        valor_descontado = self.preco-(self.preco*taxa)\n",
    "        return valor_descontado\n",
    "    \n",
    "    def valor_a_pagar(self):\n",
    "        quantidade = self.quantidade\n",
    "        if quantidade <= 100:\n",
    "            self.preco *= quantidade\n",
    "        elif quantidade >= 101 or quantidadde <= 500:\n",
    "            self.preco = self.calcula_desconto(self, 0.1)\n",
    "        elif quantidade >= 501:\n",
    "            self.preco = self.calcula_desconto(self, 0.35)\n",
    "        return self.preco\n",
    "\n",
    "produto = Produto(\"0001\", 12.53, 100)\n",
    "\n",
    "print(\"Valor total a ser pago pela quantidade de produtos {} é {}\".format(produto.codigo, produto.valor_a_pagar()))\n"
   ]
  },
  {
   "cell_type": "code",
   "execution_count": 8,
   "metadata": {},
   "outputs": [
    {
     "name": "stdout",
     "output_type": "stream",
     "text": [
      "Digite: \n",
      "pokemon\n",
      "O tamanho da string pokemon é 7\n",
      "Os 5 primeiros caracteres da string pokemon são pokem\n",
      "Os caracteres da posição 1 e 3 da string pokemon são pk\n"
     ]
    }
   ],
   "source": [
    "\"\"\"\n",
    "9. Escreva um programa que leia uma string e apresente:\n",
    "O tamanho da String.\n",
    "Os 5 primeiros caracteres.\n",
    "Os caracteres da 1 a 3 posição.\n",
    "\"\"\"\n",
    "print(\"Digite: \")\n",
    "string = input()\n",
    "\n",
    "print(\"O tamanho da string {} é {}\".format(string, len(string)))\n",
    "print(\"Os 5 primeiros caracteres da string {} são {}\".format(string, string[:5]))\n",
    "print(\"Os caracteres da posição 1 e 3 da string {} são {}\".format(string,string[0:4:2]))"
   ]
  },
  {
   "cell_type": "code",
   "execution_count": 9,
   "metadata": {},
   "outputs": [
    {
     "name": "stdout",
     "output_type": "stream",
     "text": [
      "['h', 'S', '0', 'U', 'H', 'l', 'j', '6', 'F', 'x', 'C', 'X', 'k', 'm', 'G', 'o', '8', 'q', 'u']\n"
     ]
    }
   ],
   "source": [
    "\"\"\"\n",
    "10. Escreva um programa que gere duas listas com caracteres alfanuméricos aleatórios, com\n",
    "50 elementos, a partir destas listas:\n",
    "Crie uma nova lista com os elementos de interseção.\n",
    "Crie uma nova lista a partir do conteúdo das duas listas anteriores sem elementos\n",
    "repetidos.\n",
    "\"\"\"\n",
    "import random, string\n",
    "\n",
    "def generate_lists(list_amount=2, lists_size=50):\n",
    "    dict_list = {}\n",
    "    for i in range(list_amount):\n",
    "        to_parse = ''.join(random.choices(string.ascii_letters + string.digits,k=lists_size))\n",
    "        dict_list[i] = list(to_parse)\n",
    "    return dict_list\n",
    "\n",
    "def lists_intersection(dict_lists):\n",
    "    intersection = []\n",
    "    next_size = 0\n",
    "    for i in range(len(dict_lists)):\n",
    "        next_size = i+1 \n",
    "        if next_size < len(dict_lists):\n",
    "            intersection.append([value for value in dict_lists[i] if value in dict_lists[next_size] and value not in intersection])\n",
    "        else:\n",
    "            pass\n",
    "    return list(dict.fromkeys(intersection[0]))\n",
    "    \n",
    "\n",
    "lists = generate_lists()\n",
    "lists_to_intersect = lists.copy()\n",
    "intersected_lists = lists_intersection(lists_to_intersect)\n",
    "\n",
    "print(intersected_lists)"
   ]
  },
  {
   "cell_type": "code",
   "execution_count": 10,
   "metadata": {},
   "outputs": [
    {
     "data": {
      "text/html": [
       "<div>\n",
       "<style scoped>\n",
       "    .dataframe tbody tr th:only-of-type {\n",
       "        vertical-align: middle;\n",
       "    }\n",
       "\n",
       "    .dataframe tbody tr th {\n",
       "        vertical-align: top;\n",
       "    }\n",
       "\n",
       "    .dataframe thead th {\n",
       "        text-align: right;\n",
       "    }\n",
       "</style>\n",
       "<table border=\"1\" class=\"dataframe\">\n",
       "  <thead>\n",
       "    <tr style=\"text-align: right;\">\n",
       "      <th></th>\n",
       "      <th>Dia</th>\n",
       "      <th>Março_2017</th>\n",
       "      <th>Abril_2017</th>\n",
       "      <th>Maio_2017</th>\n",
       "      <th>Junho_2017</th>\n",
       "      <th>Julho_2017</th>\n",
       "      <th>Agosto_2017</th>\n",
       "      <th>Setembro_2017</th>\n",
       "      <th>Outubro_2017</th>\n",
       "      <th>Novembro_2017</th>\n",
       "      <th>Dezembro_2017</th>\n",
       "      <th>Janeiro_2018</th>\n",
       "      <th>Fevereiro_2018</th>\n",
       "      <th>Março_2018</th>\n",
       "      <th>Abril_2018</th>\n",
       "      <th>Maio_2018</th>\n",
       "      <th>Junho_2018</th>\n",
       "      <th>Julho_2018</th>\n",
       "    </tr>\n",
       "  </thead>\n",
       "  <tbody>\n",
       "    <tr>\n",
       "      <th>0</th>\n",
       "      <td>1</td>\n",
       "      <td>87.0</td>\n",
       "      <td>83.8</td>\n",
       "      <td>83.6</td>\n",
       "      <td>83.6</td>\n",
       "      <td>83.3</td>\n",
       "      <td>82.8</td>\n",
       "      <td>82.5</td>\n",
       "      <td>83.3</td>\n",
       "      <td>83.4</td>\n",
       "      <td>84.0</td>\n",
       "      <td>86.3</td>\n",
       "      <td>86.1</td>\n",
       "      <td>85.6</td>\n",
       "      <td>86.7</td>\n",
       "      <td>87.0</td>\n",
       "      <td>86.7</td>\n",
       "      <td>86.0</td>\n",
       "    </tr>\n",
       "    <tr>\n",
       "      <th>1</th>\n",
       "      <td>2</td>\n",
       "      <td>86.0</td>\n",
       "      <td>84.4</td>\n",
       "      <td>83.7</td>\n",
       "      <td>83.5</td>\n",
       "      <td>83.6</td>\n",
       "      <td>82.5</td>\n",
       "      <td>82.2</td>\n",
       "      <td>83.0</td>\n",
       "      <td>83.1</td>\n",
       "      <td>84.1</td>\n",
       "      <td>86.0</td>\n",
       "      <td>87.0</td>\n",
       "      <td>86.5</td>\n",
       "      <td>86.8</td>\n",
       "      <td>88.0</td>\n",
       "      <td>86.4</td>\n",
       "      <td>86.5</td>\n",
       "    </tr>\n",
       "    <tr>\n",
       "      <th>2</th>\n",
       "      <td>3</td>\n",
       "      <td>86.0</td>\n",
       "      <td>85.0</td>\n",
       "      <td>83.1</td>\n",
       "      <td>84.1</td>\n",
       "      <td>83.8</td>\n",
       "      <td>83.2</td>\n",
       "      <td>83.5</td>\n",
       "      <td>83.0</td>\n",
       "      <td>83.2</td>\n",
       "      <td>84.3</td>\n",
       "      <td>85.7</td>\n",
       "      <td>87.0</td>\n",
       "      <td>86.6</td>\n",
       "      <td>86.0</td>\n",
       "      <td>87.2</td>\n",
       "      <td>86.2</td>\n",
       "      <td>86.0</td>\n",
       "    </tr>\n",
       "    <tr>\n",
       "      <th>3</th>\n",
       "      <td>4</td>\n",
       "      <td>86.0</td>\n",
       "      <td>83.8</td>\n",
       "      <td>83.0</td>\n",
       "      <td>83.4</td>\n",
       "      <td>83.0</td>\n",
       "      <td>83.1</td>\n",
       "      <td>83.0</td>\n",
       "      <td>83.0</td>\n",
       "      <td>83.4</td>\n",
       "      <td>84.4</td>\n",
       "      <td>85.4</td>\n",
       "      <td>87.0</td>\n",
       "      <td>86.4</td>\n",
       "      <td>86.6</td>\n",
       "      <td>87.0</td>\n",
       "      <td>88.0</td>\n",
       "      <td>86.1</td>\n",
       "    </tr>\n",
       "    <tr>\n",
       "      <th>4</th>\n",
       "      <td>5</td>\n",
       "      <td>86.0</td>\n",
       "      <td>84.0</td>\n",
       "      <td>83.6</td>\n",
       "      <td>84.1</td>\n",
       "      <td>82.2</td>\n",
       "      <td>82.4</td>\n",
       "      <td>82.1</td>\n",
       "      <td>82.4</td>\n",
       "      <td>83.5</td>\n",
       "      <td>84.4</td>\n",
       "      <td>85.4</td>\n",
       "      <td>87.2</td>\n",
       "      <td>86.6</td>\n",
       "      <td>87.0</td>\n",
       "      <td>86.8</td>\n",
       "      <td>86.7</td>\n",
       "      <td>85.7</td>\n",
       "    </tr>\n",
       "  </tbody>\n",
       "</table>\n",
       "</div>"
      ],
      "text/plain": [
       "   Dia  Março_2017  Abril_2017  Maio_2017  Junho_2017  Julho_2017  \\\n",
       "0    1        87.0        83.8       83.6        83.6        83.3   \n",
       "1    2        86.0        84.4       83.7        83.5        83.6   \n",
       "2    3        86.0        85.0       83.1        84.1        83.8   \n",
       "3    4        86.0        83.8       83.0        83.4        83.0   \n",
       "4    5        86.0        84.0       83.6        84.1        82.2   \n",
       "\n",
       "   Agosto_2017  Setembro_2017  Outubro_2017  Novembro_2017  Dezembro_2017  \\\n",
       "0         82.8           82.5          83.3           83.4           84.0   \n",
       "1         82.5           82.2          83.0           83.1           84.1   \n",
       "2         83.2           83.5          83.0           83.2           84.3   \n",
       "3         83.1           83.0          83.0           83.4           84.4   \n",
       "4         82.4           82.1          82.4           83.5           84.4   \n",
       "\n",
       "   Janeiro_2018  Fevereiro_2018  Março_2018  Abril_2018  Maio_2018  \\\n",
       "0          86.3            86.1        85.6        86.7       87.0   \n",
       "1          86.0            87.0        86.5        86.8       88.0   \n",
       "2          85.7            87.0        86.6        86.0       87.2   \n",
       "3          85.4            87.0        86.4        86.6       87.0   \n",
       "4          85.4            87.2        86.6        87.0       86.8   \n",
       "\n",
       "   Junho_2018  Julho_2018  \n",
       "0        86.7        86.0  \n",
       "1        86.4        86.5  \n",
       "2        86.2        86.0  \n",
       "3        88.0        86.1  \n",
       "4        86.7        85.7  "
      ]
     },
     "execution_count": 10,
     "metadata": {},
     "output_type": "execute_result"
    }
   ],
   "source": [
    "\"\"\"\n",
    "11.\n",
    "O provedor de internet XYZ está fazendo uma análise e composição de custos de seu\n",
    "negócio e fez a seguinte seleção de dados: o consumo diário em gigabytes de 14 clientes no\n",
    "período de 19 meses entre 2017 e 2018. A partir dos dados apresentados responda:\n",
    "(dados_provedor.csv)\n",
    "* Qual a média mensal de consumo\n",
    "* Os meses de férias janeiro e julho apresentaram incremento de consumo? Explique.\n",
    "* Existe um incremento de consumo nos finais de semana? Explique.\n",
    "* O consumo de dados está aumentando ou diminuindo? Explique.\n",
    "\"\"\"\n",
    "import pandas as pd\n",
    "import numpy as np\n",
    "\n",
    "data = pd.read_csv('./consumo_provedor.csv', sep= ';') \n",
    "\n",
    "data.head()\n",
    "\n",
    "dataset_reorganizado = data.iloc[:,1:]\n",
    "\n",
    "meses = data.iloc[:0,1:]\n",
    "\n",
    "sabados = data.iloc[6::7,:]\n",
    "domingos = data.iloc[7::7,:]\n",
    "data.head()"
   ]
  },
  {
   "cell_type": "code",
   "execution_count": 11,
   "metadata": {},
   "outputs": [
    {
     "name": "stdout",
     "output_type": "stream",
     "text": [
      "medias mensais:\n",
      " Março_2017        85.451613\n",
      "Abril_2017        83.740000\n",
      "Maio_2017         83.454839\n",
      "Junho_2017        83.670000\n",
      "Julho_2017        83.251613\n",
      "Agosto_2017       82.858065\n",
      "Setembro_2017     82.983333\n",
      "Outubro_2017      82.767742\n",
      "Novembro_2017     83.516667\n",
      "Dezembro_2017     84.563333\n",
      "Janeiro_2018      86.251613\n",
      "Fevereiro_2018    87.127586\n",
      "Março_2018        86.432258\n",
      "Abril_2018        87.396667\n",
      "Maio_2018         87.074194\n",
      "Junho_2018        86.806667\n",
      "Julho_2018        85.948387\n",
      "dtype: float64\n",
      "média mensal total de consumo: 84.89968090907108\n"
     ]
    }
   ],
   "source": [
    "'''\n",
    "* media mensal de consumo \n",
    "* Os meses de férias janeiro e julho apresentaram incremento de consumo? Explique.\n",
    "* Existe um incremento de consumo nos finais de semana? Explique.\n",
    "* O consumo de dados está aumentando ou diminuindo? Explique.\n",
    "'''\n",
    "# 1) media mensal de consumo \n",
    "medias_mensais = dataset_reorganizado.mean()\n",
    "print(\"medias mensais:\\n\",medias_mensais)\n",
    "media_total = medias_mensais.sum()/len(medias_mensais)\n",
    "print(\"média mensal total de consumo:\", media_total)"
   ]
  },
  {
   "cell_type": "code",
   "execution_count": 12,
   "metadata": {},
   "outputs": [
    {
     "name": "stdout",
     "output_type": "stream",
     "text": [
      "Analisando os dados da tabela, pode se concluir que em janeiro existe sim incremendo de consumo, mas em julho não.\n"
     ]
    }
   ],
   "source": [
    "# 2) Os meses de férias janeiro e julho apresentaram incremento de consumo? Explique.\n",
    "\n",
    "print(\"Analisando os dados da tabela, pode se concluir que em janeiro existe sim incremendo de consumo, mas em julho não.\")"
   ]
  },
  {
   "cell_type": "code",
   "execution_count": 13,
   "metadata": {},
   "outputs": [
    {
     "name": "stdout",
     "output_type": "stream",
     "text": [
      "Observando que a media dos fins de semana de março de 2018 foi de 86.3125 e a media nos dias de semana no mesmo periodo foi de 86.34 pode-se concluir que nos fins de semana o consumo diminui.\n"
     ]
    }
   ],
   "source": [
    "# 3)Existe um incremento de consumo nos finais de semana? Explique.\n",
    "\n",
    "primeiras_semanas = dataset_reorganizado.iloc[:5,:]\n",
    "\n",
    "medias_sabados = sabados.mean()\n",
    "medias_domingos = domingos.mean()\n",
    "\n",
    "total_fds = ((medias_sabados[\"Março_2018\"]+medias_domingos[\"Março_2018\"])/2)\n",
    "media_seg_sex = primeiras_semanas['Março_2018'].mean()\n",
    "\n",
    "print(\"Observando que a media dos fins de semana de março de 2018 foi de {} e a media nos dias de semana no mesmo periodo foi de {} pode-se concluir que nos fins de semana o consumo diminui.\".format(total_fds,media_seg_sex))"
   ]
  },
  {
   "cell_type": "code",
   "execution_count": 14,
   "metadata": {},
   "outputs": [
    {
     "name": "stdout",
     "output_type": "stream",
     "text": [
      "Visto que o consumo em 2017 foi de 83.6299231950845 e em 2018 foi de 86.71962445044758, com a diferença de 3.0897012553630816 de um ano para o outro, pode-se concluir que houve um aumento\n"
     ]
    }
   ],
   "source": [
    "# 4)  O consumo de dados está aumentando ou diminuindo? Explique.\n",
    "\n",
    "consumo_2017 = medias_mensais[:7].sum()/len(medias_mensais[:7])\n",
    "consumo_2018 = medias_mensais[10:].sum()/len(medias_mensais[10:])\n",
    "\n",
    "print(\"Visto que o consumo em 2017 foi de {} e em 2018 foi de {}, com a diferença de {} de um ano para o outro, pode-se concluir que houve um aumento\".format(consumo_2017,consumo_2018,consumo_2018-consumo_2017))"
   ]
  },
  {
   "cell_type": "code",
   "execution_count": 15,
   "metadata": {
    "scrolled": true
   },
   "outputs": [
    {
     "data": {
      "text/plain": [
       "<Figure size 1500x500 with 1 Axes>"
      ]
     },
     "metadata": {},
     "output_type": "display_data"
    }
   ],
   "source": [
    "\"\"\"\n",
    "12.\n",
    "A partir do conjunto de dados utilizado no item 11, apresente utilizando gráficos\n",
    "◆ A média mensal de consumo.\n",
    "◆ Um comparativo de consumo mensal entre os trimestres: Abril-Maio-Junho de 2017 e\n",
    "2018.\n",
    "\"\"\"\n",
    "import matplotlib\n",
    "import matplotlib.pyplot as plt\n",
    "import numpy as np\n",
    "\n",
    "reorganiza_meses = []\n",
    "for mes in meses:\n",
    "    string_reorganizada = mes[:3]+\"_\"+mes[-4:]\n",
    "    reorganiza_meses.append(string_reorganizada)\n",
    "\n",
    "reorganiza_medias = []\n",
    "for media in medias_mensais.array:\n",
    "    reorganiza_medias.append(media)\n",
    "\n",
    "fig, graph_to_plot = plt.subplots(figsize=(15, 5))\n",
    "\n",
    "    \n",
    "graph_to_plot.plot(reorganiza_meses,reorganiza_medias)\n",
    "\n",
    "graph_to_plot.set(xlabel='Meses', ylabel='Consumo',\n",
    "       title='Gráfico da média mensal de de consumo de dados de Março de 2017 à Julho de 2018')\n",
    "graph_to_plot.grid()\n",
    "\n",
    "plt.show()"
   ]
  },
  {
   "cell_type": "code",
   "execution_count": 16,
   "metadata": {},
   "outputs": [
    {
     "data": {
      "image/png": "[encoded data removed]",
      "text/plain": [
       "<Figure size 576x360 with 1 Axes>"
      ]
     },
     "metadata": {
      "needs_background": "light"
     },
     "output_type": "display_data"
    }
   ],
   "source": [
    "\n",
    "\n",
    "figure_1, graph_to_plot = plt.subplots(figsize=(8, 5))\n",
    "\n",
    "graph_to_plot.plot(reorganiza_meses[:3],reorganiza_medias[:3])\n",
    "graph_to_plot.plot(reorganiza_meses[12:15],reorganiza_medias[12:15])\n",
    "\n",
    "graph_to_plot.set(xlabel='Meses', ylabel='Consumo',\n",
    "       title='Gráfico da média de consumo entre Março à Maio de 2017 e 2018')\n",
    "\n",
    "graph_to_plot.grid()\n",
    "\n",
    "\n",
    "plt.show()\n"
   ]
  },
  {
   "cell_type": "code",
   "execution_count": null,
   "metadata": {},
   "outputs": [],
   "source": [
    "\"\"\"\n",
    "13) O algoritmo apriori é utilizado em aplicações de analise de dados para encontrar padrões\n",
    "em bases de dados, este algoritmo possui um conjunto de métricas de regras dentre elas o\n",
    "suporte e confiança:\n",
    "◆ Suporte: A regra que quantifica o suporte em T (o conjunto de dados de transações), das\n",
    "transações que contêm um itemset. sup% das transações conter X U Y. Sup% = Pr (X U Y). ◆ Confiança: Mede a frequência com que Y aparece nas transações que contêm X, Conf% = Pr (Y | X)\n",
    "A partir do item 12, (dados_provedor.csv), considerando o consumo diário de todo o período. Calcule e apresente:\n",
    "◆ Os itens frequentes\n",
    "◆ o suporte\n",
    "◆ Confiança\n",
    "\"\"\"\n"
   ]
  }
 ],
 "metadata": {
  "kernelspec": {
   "display_name": "Python 3",
   "language": "python",
   "name": "python3"
  },
  "language_info": {
   "codemirror_mode": {
    "name": "ipython",
    "version": 3
   },
   "file_extension": ".py",
   "mimetype": "text/x-python",
   "name": "python",
   "nbconvert_exporter": "python",
   "pygments_lexer": "ipython3",
   "version": "3.6.8"
  }
 },
 "nbformat": 4,
 "nbformat_minor": 2
}
