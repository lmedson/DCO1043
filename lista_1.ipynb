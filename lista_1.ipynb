{
 "cells": [
  {
   "cell_type": "code",
   "execution_count": 8,
   "metadata": {},
   "outputs": [
    {
     "name": "stdout",
     "output_type": "stream",
     "text": [
      "Média dos números da lista: 736.78\n",
      "Soma dos números da lista: 73678\n",
      "\n",
      "Lista em ordem crescente: [12, 15, 62, 66, 69, 83, 86, 98, 99, 103, 105, 180, 184, 190, 191, 203, 217, 229, 280, 328, 331, 341, 361, 369, 382, 388, 404, 410, 441, 446, 474, 486, 496, 509, 549, 559, 563, 580, 609, 632, 663, 678, 685, 716, 717, 730, 733, 738, 741, 750, 754, 790, 800, 806, 835, 836, 879, 903, 909, 920, 924, 925, 929, 933, 957, 960, 971, 979, 981, 1002, 1022, 1035, 1052, 1067, 1071, 1084, 1096, 1097, 1120, 1156, 1166, 1192, 1196, 1200, 1208, 1220, 1228, 1231, 1246, 1253, 1264, 1313, 1318, 1330, 1337, 1365, 1369, 1385, 1386, 1397]\n",
      "\n",
      "Lista em ordem decrescente: [1397, 1386, 1385, 1369, 1365, 1337, 1330, 1318, 1313, 1264, 1253, 1246, 1231, 1228, 1220, 1208, 1200, 1196, 1192, 1166, 1156, 1120, 1097, 1096, 1084, 1071, 1067, 1052, 1035, 1022, 1002, 981, 979, 971, 960, 957, 933, 929, 925, 924, 920, 909, 903, 879, 836, 835, 806, 800, 790, 754, 750, 741, 738, 733, 730, 717, 716, 685, 678, 663, 632, 609, 580, 563, 559, 549, 509, 496, 486, 474, 446, 441, 410, 404, 388, 382, 369, 361, 341, 331, 328, 280, 229, 217, 203, 191, 190, 184, 180, 105, 103, 99, 98, 86, 83, 69, 66, 62, 15, 12]\n",
      "\n",
      " Maior e menor elementos da lista: (1397, 12)\n"
     ]
    }
   ],
   "source": [
    "\"\"\"\n",
    "1. Implemente uma lista com os 100 números inteiros aleatórios gerados no momento da\n",
    "execução e apresente:\n",
    "o A média dos números. \n",
    "o A soma de todos os elementos da lista. \n",
    "o 10 elementos da lista de forma aleatória. \n",
    "o A lista em ordem decrescente. \n",
    "o O maior e o menor número da lista. \n",
    "\"\"\"\n",
    "from random import randint \n",
    "import pandas as pd\n",
    "import numpy as np\n",
    "\n",
    "lista = []\n",
    "for i in range(100):\n",
    "    lista.append(randint(0,1400))\n",
    "        \n",
    "def media(lista):\n",
    "    return sum(lista)/len(lista)\n",
    "\n",
    "def sum_list(lista):\n",
    "    return sum(lista)\n",
    "\n",
    "def ordem_crescente(lista):\n",
    "    crescente = lista.sort()\n",
    "    return crescente\n",
    "\n",
    "def ordem_decrescente(lista):\n",
    "    decrescente = lista.sort(reverse=True)\n",
    "    return decrescente\n",
    "\n",
    "def maior_menor(lista):\n",
    "    maior = max(lista)\n",
    "    menor = min(lista)\n",
    "    return maior,menor\n",
    "    \n",
    "# lista = List_operations(list)\n",
    "print(\"Média dos números da lista:\", media(lista))\n",
    "print(\"Soma dos números da lista:\", sum_list(lista))\n",
    "lista.sort()\n",
    "print(\"\\nLista em ordem crescente:\", lista)\n",
    "lista.sort(reverse=True)\n",
    "print(\"\\nLista em ordem decrescente:\", lista)\n",
    "print(\"\\n Maior e menor elementos da lista:\", maior_menor(lista))"
   ]
  },
  {
   "cell_type": "code",
   "execution_count": 6,
   "metadata": {},
   "outputs": [
    {
     "name": "stdout",
     "output_type": "stream",
     "text": [
      "Imprimindo de 1 a 200 na ordem decrescente:  [200, 199, 198, 197, 196, 195, 194, 193, 192, 191, 190, 189, 188, 187, 186, 185, 184, 183, 182, 181, 180, 179, 178, 177, 176, 175, 174, 173, 172, 171, 170, 169, 168, 167, 166, 165, 164, 163, 162, 161, 160, 159, 158, 157, 156, 155, 154, 153, 152, 151, 150, 149, 148, 147, 146, 145, 144, 143, 142, 141, 140, 139, 138, 137, 136, 135, 134, 133, 132, 131, 130, 129, 128, 127, 126, 125, 124, 123, 122, 121, 120, 119, 118, 117, 116, 115, 114, 113, 112, 111, 110, 109, 108, 107, 106, 105, 104, 103, 102, 101, 100, 99, 98, 97, 96, 95, 94, 93, 92, 91, 90, 89, 88, 87, 86, 85, 84, 83, 82, 81, 80, 79, 78, 77, 76, 75, 74, 73, 72, 71, 70, 69, 68, 67, 66, 65, 64, 63, 62, 61, 60, 59, 58, 57, 56, 55, 54, 53, 52, 51, 50, 49, 48, 47, 46, 45, 44, 43, 42, 41, 40, 39, 38, 37, 36, 35, 34, 33, 32, 31, 30, 29, 28, 27, 26, 25, 24, 23, 22, 21, 20, 19, 18, 17, 16, 15, 14, 13, 12, 11, 10, 9, 8, 7, 6, 5, 4, 3, 2, 1]\n"
     ]
    }
   ],
   "source": [
    "\"\"\"\n",
    "2. Escreva um programa que coloque os números de 1 a 200 na tela na ordem inversa (iniciando\n",
    "em 200 e terminando em 1).\n",
    "\"\"\"\n",
    "\n",
    "print(\"Imprimindo de 1 a 200 na ordem decrescente: \", [i for i in reversed(range(1,201))])"
   ]
  },
  {
   "cell_type": "code",
   "execution_count": 10,
   "metadata": {},
   "outputs": [
    {
     "name": "stdout",
     "output_type": "stream",
     "text": [
      "10\n",
      "A área do círculo é:  314.0\n"
     ]
    }
   ],
   "source": [
    "\"\"\"\n",
    "3. Escreva um programa que a partir de um número fornecido pelo usuário que correspondente\n",
    "ao raio de um círculo apresente área do círculo.\n",
    "\n",
    "Equação da área do círculo A = πr2.\n",
    "Valor da constante Π = 3.14\n",
    "\"\"\"\n",
    "\n",
    "def area_do_circulo():\n",
    "    raio = float(input())\n",
    "    \n",
    "    if raio < 0:\n",
    "        return \"Valor do raio inválido, digite novamente\"\n",
    "    return 3.14*(raio**2) \n",
    "\n",
    "print(\"A área do círculo é: \", area_do_circulo())"
   ]
  },
  {
   "cell_type": "code",
   "execution_count": 16,
   "metadata": {},
   "outputs": [
    {
     "name": "stdout",
     "output_type": "stream",
     "text": [
      "Digite um númmero para checar se é primo:\n",
      "13\n",
      "\n",
      "O número  13 É primo\n"
     ]
    }
   ],
   "source": [
    "\"\"\"\n",
    "5\n",
    "\"\"\"\n",
    "\n",
    "def definir_primo(numero):\n",
    "    numero = int(numero)\n",
    "    if numero % 2 == 0 :\n",
    "        return \"Não é primo\"\n",
    "    return \"É primo\"\n",
    "print(\"Digite um númmero para checar se é primo:\")\n",
    "numero = input()\n",
    "print(\"\\nO número \",numero, definir_primo(numero) )"
   ]
  },
  {
   "cell_type": "code",
   "execution_count": 44,
   "metadata": {},
   "outputs": [
    {
     "name": "stdout",
     "output_type": "stream",
     "text": [
      "Os 100 primeiros numeros primos são [1, 3, 5, 7, 9, 11, 13, 15, 17, 19, 21, 23, 25, 27, 29, 31, 33, 35, 37, 39, 41, 43, 45, 47, 49, 51, 53, 55, 57, 59, 61, 63, 65, 67, 69, 71, 73, 75, 77, 79, 81, 83, 85, 87, 89, 91, 93, 95, 97, 99, 101, 103, 105, 107, 109, 111, 113, 115, 117, 119, 121, 123, 125, 127, 129, 131, 133, 135, 137, 139, 141, 143, 145, 147, 149, 151, 153, 155, 157, 159, 161, 163, 165, 167, 169, 171, 173, 175, 177, 179, 181, 183, 185, 187, 189, 191, 193, 195, 197, 199]\n"
     ]
    }
   ],
   "source": [
    "\"\"\"\n",
    "6 - Escreva um programa que gere os 100 primeiros números primos e apresente-os em ordem\n",
    "crescente.\n",
    "\"\"\"\n",
    "\n",
    "def first_primes(num,atual=0):\n",
    "    lista = []\n",
    "    quantidade_primos = 0\n",
    "    while quantidade_primos < num:\n",
    "        atual += 1\n",
    "        if atual%2 != 0:\n",
    "            lista.append(atual)\n",
    "            quantidade_primos+=1\n",
    "    return lista\n",
    "\n",
    "primos = first_primes(100)\n",
    "\n",
    "print(\"Os {} primeiros numeros primos são {}\".format(len(primos), primos))"
   ]
  },
  {
   "cell_type": "code",
   "execution_count": 51,
   "metadata": {},
   "outputs": [
    {
     "name": "stdout",
     "output_type": "stream",
     "text": [
      "A soma dos 20 primeiros primos acima de 100 é: 2400 \n"
     ]
    }
   ],
   "source": [
    "\"\"\"\n",
    "7 - Escreva um programa que gere 20 números primos maiores que 100, sem repetições. A partir\n",
    "desta geração apresente a soma destes números.\n",
    "\"\"\"\n",
    "lista_primos = first_primes(20,100)\n",
    "\n",
    "print(\"A soma dos {} primeiros primos acima de 100 é: {} \".format(len(lista_primos), sum(lista_primos)))\n"
   ]
  },
  {
   "cell_type": "code",
   "execution_count": null,
   "metadata": {},
   "outputs": [],
   "source": []
  }
 ],
 "metadata": {
  "kernelspec": {
   "display_name": "Python 3",
   "language": "python",
   "name": "python3"
  },
  "language_info": {
   "codemirror_mode": {
    "name": "ipython",
    "version": 3
   },
   "file_extension": ".py",
   "mimetype": "text/x-python",
   "name": "python",
   "nbconvert_exporter": "python",
   "pygments_lexer": "ipython3",
   "version": "3.6.8"
  }
 },
 "nbformat": 4,
 "nbformat_minor": 2
}
