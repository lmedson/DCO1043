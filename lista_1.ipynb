{
 "cells": [
  {
   "cell_type": "code",
   "execution_count": 8,
   "metadata": {},
   "outputs": [
    {
     "name": "stdout",
     "output_type": "stream",
     "text": [
      "Média dos números da lista: 736.78\n",
      "Soma dos números da lista: 73678\n",
      "\n",
      "Lista em ordem crescente: [12, 15, 62, 66, 69, 83, 86, 98, 99, 103, 105, 180, 184, 190, 191, 203, 217, 229, 280, 328, 331, 341, 361, 369, 382, 388, 404, 410, 441, 446, 474, 486, 496, 509, 549, 559, 563, 580, 609, 632, 663, 678, 685, 716, 717, 730, 733, 738, 741, 750, 754, 790, 800, 806, 835, 836, 879, 903, 909, 920, 924, 925, 929, 933, 957, 960, 971, 979, 981, 1002, 1022, 1035, 1052, 1067, 1071, 1084, 1096, 1097, 1120, 1156, 1166, 1192, 1196, 1200, 1208, 1220, 1228, 1231, 1246, 1253, 1264, 1313, 1318, 1330, 1337, 1365, 1369, 1385, 1386, 1397]\n",
      "\n",
      "Lista em ordem decrescente: [1397, 1386, 1385, 1369, 1365, 1337, 1330, 1318, 1313, 1264, 1253, 1246, 1231, 1228, 1220, 1208, 1200, 1196, 1192, 1166, 1156, 1120, 1097, 1096, 1084, 1071, 1067, 1052, 1035, 1022, 1002, 981, 979, 971, 960, 957, 933, 929, 925, 924, 920, 909, 903, 879, 836, 835, 806, 800, 790, 754, 750, 741, 738, 733, 730, 717, 716, 685, 678, 663, 632, 609, 580, 563, 559, 549, 509, 496, 486, 474, 446, 441, 410, 404, 388, 382, 369, 361, 341, 331, 328, 280, 229, 217, 203, 191, 190, 184, 180, 105, 103, 99, 98, 86, 83, 69, 66, 62, 15, 12]\n",
      "\n",
      " Maior e menor elementos da lista: (1397, 12)\n"
     ]
    }
   ],
   "source": [
    "\"\"\"\n",
    "1. Implemente uma lista com os 100 números inteiros aleatórios gerados no momento da\n",
    "execução e apresente:\n",
    "o A média dos números. \n",
    "o A soma de todos os elementos da lista. \n",
    "o 10 elementos da lista de forma aleatória. \n",
    "o A lista em ordem decrescente. \n",
    "o O maior e o menor número da lista. \n",
    "\"\"\"\n",
    "from random import randint \n",
    "import pandas as pd\n",
    "import numpy as np\n",
    "\n",
    "lista = []\n",
    "for i in range(100):\n",
    "    lista.append(randint(0,1400))\n",
    "        \n",
    "def media(lista):\n",
    "    return sum(lista)/len(lista)\n",
    "\n",
    "def sum_list(lista):\n",
    "    return sum(lista)\n",
    "\n",
    "def ordem_crescente(lista):\n",
    "    crescente = lista.sort()\n",
    "    return crescente\n",
    "\n",
    "def ordem_decrescente(lista):\n",
    "    decrescente = lista.sort(reverse=True)\n",
    "    return decrescente\n",
    "\n",
    "def maior_menor(lista):\n",
    "    maior = max(lista)\n",
    "    menor = min(lista)\n",
    "    return maior,menor\n",
    "    \n",
    "# lista = List_operations(list)\n",
    "print(\"Média dos números da lista:\", media(lista))\n",
    "print(\"Soma dos números da lista:\", sum_list(lista))\n",
    "lista.sort()\n",
    "print(\"\\nLista em ordem crescente:\", lista)\n",
    "lista.sort(reverse=True)\n",
    "print(\"\\nLista em ordem decrescente:\", lista)\n",
    "print(\"\\n Maior e menor elementos da lista:\", maior_menor(lista))"
   ]
  },
  {
   "cell_type": "code",
   "execution_count": null,
   "metadata": {},
   "outputs": [],
   "source": []
  },
  {
   "cell_type": "code",
   "execution_count": null,
   "metadata": {},
   "outputs": [],
   "source": []
  }
 ],
 "metadata": {
  "kernelspec": {
   "display_name": "Python 3",
   "language": "python",
   "name": "python3"
  },
  "language_info": {
   "codemirror_mode": {
    "name": "ipython",
    "version": 3
   },
   "file_extension": ".py",
   "mimetype": "text/x-python",
   "name": "python",
   "nbconvert_exporter": "python",
   "pygments_lexer": "ipython3",
   "version": "3.6.8"
  }
 },
 "nbformat": 4,
 "nbformat_minor": 2
}
