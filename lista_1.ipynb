{
 "cells": [
  {
   "cell_type": "code",
   "execution_count": 1,
   "metadata": {},
   "outputs": [
    {
     "name": "stdout",
     "output_type": "stream",
     "text": [
      "Média dos números da lista: 689.6\n",
      "Soma dos números da lista: 68960\n",
      "\n",
      "Lista em ordem crescente: [10, 39, 62, 65, 75, 131, 158, 179, 201, 203, 209, 209, 211, 224, 233, 237, 240, 262, 268, 285, 302, 304, 310, 330, 333, 334, 359, 375, 389, 393, 405, 407, 416, 437, 449, 455, 490, 507, 513, 523, 532, 550, 555, 574, 580, 584, 585, 598, 602, 606, 610, 661, 666, 721, 741, 807, 847, 871, 895, 896, 912, 922, 923, 946, 948, 953, 954, 964, 965, 968, 973, 982, 1000, 1014, 1019, 1022, 1037, 1058, 1069, 1081, 1083, 1104, 1108, 1110, 1123, 1127, 1134, 1158, 1201, 1204, 1208, 1215, 1221, 1247, 1269, 1283, 1289, 1358, 1396, 1399]\n",
      "\n",
      "Lista em ordem decrescente: [1399, 1396, 1358, 1289, 1283, 1269, 1247, 1221, 1215, 1208, 1204, 1201, 1158, 1134, 1127, 1123, 1110, 1108, 1104, 1083, 1081, 1069, 1058, 1037, 1022, 1019, 1014, 1000, 982, 973, 968, 965, 964, 954, 953, 948, 946, 923, 922, 912, 896, 895, 871, 847, 807, 741, 721, 666, 661, 610, 606, 602, 598, 585, 584, 580, 574, 555, 550, 532, 523, 513, 507, 490, 455, 449, 437, 416, 407, 405, 393, 389, 375, 359, 334, 333, 330, 310, 304, 302, 285, 268, 262, 240, 237, 233, 224, 211, 209, 209, 203, 201, 179, 158, 131, 75, 65, 62, 39, 10]\n",
      "\n",
      " Maior e menor elementos da lista: (1399, 10)\n"
     ]
    }
   ],
   "source": [
    "\"\"\"\n",
    "1. Implemente uma lista com os 100 números inteiros aleatórios gerados no momento da\n",
    "execução e apresente:\n",
    "o A média dos números. \n",
    "o A soma de todos os elementos da lista. \n",
    "o 10 elementos da lista de forma aleatória. \n",
    "o A lista em ordem decrescente. \n",
    "o O maior e o menor número da lista. \n",
    "\"\"\"\n",
    "from random import randint \n",
    "import pandas as pd\n",
    "import numpy as np\n",
    "\n",
    "lista = []\n",
    "for i in range(100):\n",
    "    lista.append(randint(0,1400))\n",
    "        \n",
    "def media(lista):\n",
    "    return sum(lista)/len(lista)\n",
    "\n",
    "def sum_list(lista):\n",
    "    return sum(lista)\n",
    "\n",
    "def ordem_crescente(lista):\n",
    "    crescente = lista.sort()\n",
    "    return crescente\n",
    "\n",
    "def ordem_decrescente(lista):\n",
    "    decrescente = lista.sort(reverse=True)\n",
    "    return decrescente\n",
    "\n",
    "def maior_menor(lista):\n",
    "    maior = max(lista)\n",
    "    menor = min(lista)\n",
    "    return maior,menor\n",
    "    \n",
    "# lista = List_operations(list)\n",
    "print(\"Média dos números da lista:\", media(lista))\n",
    "print(\"Soma dos números da lista:\", sum_list(lista))\n",
    "lista.sort()\n",
    "print(\"\\nLista em ordem crescente:\", lista)\n",
    "lista.sort(reverse=True)\n",
    "print(\"\\nLista em ordem decrescente:\", lista)\n",
    "print(\"\\n Maior e menor elementos da lista:\", maior_menor(lista))"
   ]
  },
  {
   "cell_type": "code",
   "execution_count": 2,
   "metadata": {},
   "outputs": [
    {
     "name": "stdout",
     "output_type": "stream",
     "text": [
      "Imprimindo de 1 a 200 na ordem decrescente:  [200, 199, 198, 197, 196, 195, 194, 193, 192, 191, 190, 189, 188, 187, 186, 185, 184, 183, 182, 181, 180, 179, 178, 177, 176, 175, 174, 173, 172, 171, 170, 169, 168, 167, 166, 165, 164, 163, 162, 161, 160, 159, 158, 157, 156, 155, 154, 153, 152, 151, 150, 149, 148, 147, 146, 145, 144, 143, 142, 141, 140, 139, 138, 137, 136, 135, 134, 133, 132, 131, 130, 129, 128, 127, 126, 125, 124, 123, 122, 121, 120, 119, 118, 117, 116, 115, 114, 113, 112, 111, 110, 109, 108, 107, 106, 105, 104, 103, 102, 101, 100, 99, 98, 97, 96, 95, 94, 93, 92, 91, 90, 89, 88, 87, 86, 85, 84, 83, 82, 81, 80, 79, 78, 77, 76, 75, 74, 73, 72, 71, 70, 69, 68, 67, 66, 65, 64, 63, 62, 61, 60, 59, 58, 57, 56, 55, 54, 53, 52, 51, 50, 49, 48, 47, 46, 45, 44, 43, 42, 41, 40, 39, 38, 37, 36, 35, 34, 33, 32, 31, 30, 29, 28, 27, 26, 25, 24, 23, 22, 21, 20, 19, 18, 17, 16, 15, 14, 13, 12, 11, 10, 9, 8, 7, 6, 5, 4, 3, 2, 1]\n"
     ]
    }
   ],
   "source": [
    "\"\"\"\n",
    "2. Escreva um programa que coloque os números de 1 a 200 na tela na ordem inversa (iniciando\n",
    "em 200 e terminando em 1).\n",
    "\"\"\"\n",
    "\n",
    "print(\"Imprimindo de 1 a 200 na ordem decrescente: \", [i for i in reversed(range(1,201))])"
   ]
  },
  {
   "cell_type": "code",
   "execution_count": 3,
   "metadata": {},
   "outputs": [
    {
     "name": "stdout",
     "output_type": "stream",
     "text": [
      "12\n",
      "A área do círculo é:  452.16\n"
     ]
    }
   ],
   "source": [
    "\"\"\"\n",
    "3. Escreva um programa que a partir de um número fornecido pelo usuário que correspondente\n",
    "ao raio de um círculo apresente área do círculo.\n",
    "\n",
    "Equação da área do círculo A = πr2.\n",
    "Valor da constante Π = 3.14\n",
    "\"\"\"\n",
    "\n",
    "def area_do_circulo():\n",
    "    raio = float(input())\n",
    "    \n",
    "    if raio < 0:\n",
    "        return \"Valor do raio inválido, digite novamente\"\n",
    "    return 3.14*(raio**2) \n",
    "\n",
    "print(\"A área do círculo é: \", area_do_circulo())"
   ]
  },
  {
   "cell_type": "code",
   "execution_count": 4,
   "metadata": {},
   "outputs": [
    {
     "name": "stdout",
     "output_type": "stream",
     "text": [
      "Digite um númmero para checar se é primo:\n",
      "12\n",
      "\n",
      "O número  12 Não é primo\n"
     ]
    }
   ],
   "source": [
    "\"\"\"\n",
    "5. A partir do item 4 da lista faça um programa que implemente o diagrama construído.\n",
    "\"\"\"\n",
    "\n",
    "def definir_primo(numero):\n",
    "    numero = int(numero)\n",
    "    if numero % 2 == 0 :\n",
    "        return \"Não é primo\"\n",
    "    return \"É primo\"\n",
    "print(\"Digite um númmero para checar se é primo:\")\n",
    "numero = input()\n",
    "print(\"\\nO número \",numero, definir_primo(numero) )"
   ]
  },
  {
   "cell_type": "code",
   "execution_count": 5,
   "metadata": {},
   "outputs": [
    {
     "name": "stdout",
     "output_type": "stream",
     "text": [
      "Os 100 primeiros numeros primos são [1, 3, 5, 7, 9, 11, 13, 15, 17, 19, 21, 23, 25, 27, 29, 31, 33, 35, 37, 39, 41, 43, 45, 47, 49, 51, 53, 55, 57, 59, 61, 63, 65, 67, 69, 71, 73, 75, 77, 79, 81, 83, 85, 87, 89, 91, 93, 95, 97, 99, 101, 103, 105, 107, 109, 111, 113, 115, 117, 119, 121, 123, 125, 127, 129, 131, 133, 135, 137, 139, 141, 143, 145, 147, 149, 151, 153, 155, 157, 159, 161, 163, 165, 167, 169, 171, 173, 175, 177, 179, 181, 183, 185, 187, 189, 191, 193, 195, 197, 199]\n"
     ]
    }
   ],
   "source": [
    "\"\"\"\n",
    "6 - Escreva um programa que gere os 100 primeiros números primos e apresente-os em ordem\n",
    "crescente.\n",
    "\"\"\"\n",
    "\n",
    "def first_primes(num,atual=0):\n",
    "    lista = []\n",
    "    quantidade_primos = 0\n",
    "    while quantidade_primos < num:\n",
    "        atual += 1\n",
    "        if atual%2 != 0:\n",
    "            lista.append(atual)\n",
    "            quantidade_primos+=1\n",
    "    return lista\n",
    "\n",
    "primos = first_primes(100)\n",
    "\n",
    "print(\"Os {} primeiros numeros primos são {}\".format(len(primos), primos))"
   ]
  },
  {
   "cell_type": "code",
   "execution_count": 6,
   "metadata": {},
   "outputs": [
    {
     "name": "stdout",
     "output_type": "stream",
     "text": [
      "A soma dos 20 primeiros primos acima de 100 é: 2400 \n"
     ]
    }
   ],
   "source": [
    "\"\"\"\n",
    "7 - Escreva um programa que gere 20 números primos maiores que 100, sem repetições. A partir\n",
    "desta geração apresente a soma destes números.\n",
    "\"\"\"\n",
    "lista_primos = first_primes(20,100)\n",
    "\n",
    "print(\"A soma dos {} primeiros primos acima de 100 é: {} \".format(len(lista_primos), sum(lista_primos)))\n"
   ]
  },
  {
   "cell_type": "code",
   "execution_count": 7,
   "metadata": {},
   "outputs": [
    {
     "name": "stdout",
     "output_type": "stream",
     "text": [
      "Valor total a ser pago pela quantidade de produtos 0001 é 1253.0\n"
     ]
    }
   ],
   "source": [
    "\"\"\"\n",
    "8. Escreva um programa que lê o código de um produto, o preço e a quantidade comprada,\n",
    "apresentando o código do produto comprado e o valor total a ser pago, considerando que são\n",
    "oferecidos descontos pelo número de unidades compradas, segundo a descrição:\n",
    "Até 100 unidades: valor total\n",
    "De 101 a 500 unidades: 10% de desconto\n",
    "Acima de 501 unidades: 35% de desconto\n",
    "\"\"\"\n",
    "\n",
    "class Produto():\n",
    "    def __init__(self, codigo, preco, quantidade=0):\n",
    "        self.codigo = codigo\n",
    "        self.preco = preco\n",
    "        self.quantidade = quantidade\n",
    "    \n",
    "    def calcula_desconto(self, taxa):\n",
    "        valor_descontado = self.preco-(self.preco*taxa)\n",
    "        return valor_descontado\n",
    "    \n",
    "    def valor_a_pagar(self):\n",
    "        quantidade = self.quantidade\n",
    "        if quantidade <= 100:\n",
    "            self.preco *= quantidade\n",
    "        elif quantidade >= 101 or quantidadde <= 500:\n",
    "            self.preco = self.calcula_desconto(self, 0.1)\n",
    "        elif quantidade >= 501:\n",
    "            self.preco = self.calcula_desconto(self, 0.35)\n",
    "        return self.preco\n",
    "\n",
    "produto = Produto(\"0001\", 12.53, 100)\n",
    "\n",
    "print(\"Valor total a ser pago pela quantidade de produtos {} é {}\".format(produto.codigo, produto.valor_a_pagar()))\n"
   ]
  },
  {
   "cell_type": "code",
   "execution_count": 8,
   "metadata": {},
   "outputs": [
    {
     "name": "stdout",
     "output_type": "stream",
     "text": [
      "Digite: \n",
      "pokemon\n",
      "O tamanho da string pokemon é 7\n",
      "Os 5 primeiros caracteres da string pokemon são pokem\n",
      "Os caracteres da posição 1 e 3 da string pokemon são pk\n"
     ]
    }
   ],
   "source": [
    "\"\"\"\n",
    "9. Escreva um programa que leia uma string e apresente:\n",
    "O tamanho da String.\n",
    "Os 5 primeiros caracteres.\n",
    "Os caracteres da 1 a 3 posição.\n",
    "\"\"\"\n",
    "print(\"Digite: \")\n",
    "string = input()\n",
    "\n",
    "print(\"O tamanho da string {} é {}\".format(string, len(string)))\n",
    "print(\"Os 5 primeiros caracteres da string {} são {}\".format(string, string[:5]))\n",
    "print(\"Os caracteres da posição 1 e 3 da string {} são {}\".format(string,string[0:4:2]))"
   ]
  },
  {
   "cell_type": "code",
   "execution_count": 9,
   "metadata": {},
   "outputs": [
    {
     "name": "stdout",
     "output_type": "stream",
     "text": [
      "['G', 'N', '0', 'U', 'T', 'w', 'Q', 'Y', 's', 'S', 'm', '1', 'z', 'v', '9', 'M', 'V']\n"
     ]
    }
   ],
   "source": [
    "\"\"\"\n",
    "10. Escreva um programa que gere duas listas com caracteres alfanuméricos aleatórios, com\n",
    "50 elementos, a partir destas listas:\n",
    "Crie uma nova lista com os elementos de interseção.\n",
    "Crie uma nova lista a partir do conteúdo das duas listas anteriores sem elementos\n",
    "repetidos.\n",
    "\"\"\"\n",
    "import random, string\n",
    "\n",
    "def generate_lists(list_amount=2, lists_size=50):\n",
    "    dict_list = {}\n",
    "    for i in range(list_amount):\n",
    "        to_parse = ''.join(random.choices(string.ascii_letters + string.digits,k=lists_size))\n",
    "        dict_list[i] = list(to_parse)\n",
    "    return dict_list\n",
    "\n",
    "def lists_intersection(dict_lists):\n",
    "    intersection = []\n",
    "    next_size = 0\n",
    "    for i in range(len(dict_lists)):\n",
    "        next_size = i+1 \n",
    "        if next_size < len(dict_lists):\n",
    "            intersection.append([value for value in dict_lists[i] if value in dict_lists[next_size] and value not in intersection])\n",
    "        else:\n",
    "            pass\n",
    "    return list(dict.fromkeys(intersection[0]))\n",
    "    \n",
    "\n",
    "lists = generate_lists()\n",
    "lists_to_intersect = lists.copy()\n",
    "intersected_lists = lists_intersection(lists_to_intersect)\n",
    "\n",
    "print(intersected_lists)"
   ]
  },
  {
   "cell_type": "code",
   "execution_count": 10,
   "metadata": {},
   "outputs": [
    {
     "data": {
      "text/plain": [
       "'\\n11.\\nO provedor de internet XYZ está fazendo uma análise e composição de custos de seu\\nnegócio e fez a seguinte seleção de dados: o consumo diário em gigabytes de 14 clientes no\\nperíodo de 19 meses entre 2017 e 2018. A partir dos dados apresentados responda:\\n(dados_provedor.csv)\\nQ ual a média mensal de consumo\\nOs meses de férias janeiro e julho apresentaram incremento de consumo? Explique.\\nExiste um incremento de consumo nos finais de semana? Explique.\\nO consumo de dados está aumentando ou diminuindo? Explique.\\n'"
      ]
     },
     "execution_count": 10,
     "metadata": {},
     "output_type": "execute_result"
    }
   ],
   "source": [
    "\"\"\"\n",
    "11.\n",
    "O provedor de internet XYZ está fazendo uma análise e composição de custos de seu\n",
    "negócio e fez a seguinte seleção de dados: o consumo diário em gigabytes de 14 clientes no\n",
    "período de 19 meses entre 2017 e 2018. A partir dos dados apresentados responda:\n",
    "(dados_provedor.csv)\n",
    "Q ual a média mensal de consumo\n",
    "Os meses de férias janeiro e julho apresentaram incremento de consumo? Explique.\n",
    "Existe um incremento de consumo nos finais de semana? Explique.\n",
    "O consumo de dados está aumentando ou diminuindo? Explique.\n",
    "\"\"\""
   ]
  },
  {
   "cell_type": "code",
   "execution_count": 11,
   "metadata": {},
   "outputs": [
    {
     "data": {
      "text/plain": [
       "'\\n12.\\nA partir do conjunto de dados utilizado no item 11, apresente utilizando gráficos\\n◆ A média mensal de consumo.\\n◆ Um comparativo de consumo mensal entre os trimestres: Abril-Maio-Junho de 2017 e\\n2018.\\n'"
      ]
     },
     "execution_count": 11,
     "metadata": {},
     "output_type": "execute_result"
    }
   ],
   "source": [
    "\"\"\"\n",
    "12.\n",
    "A partir do conjunto de dados utilizado no item 11, apresente utilizando gráficos\n",
    "◆ A média mensal de consumo.\n",
    "◆ Um comparativo de consumo mensal entre os trimestres: Abril-Maio-Junho de 2017 e\n",
    "2018.\n",
    "\"\"\""
   ]
  }
 ],
 "metadata": {
  "kernelspec": {
   "display_name": "Python 3",
   "language": "python",
   "name": "python3"
  },
  "language_info": {
   "codemirror_mode": {
    "name": "ipython",
    "version": 3
   },
   "file_extension": ".py",
   "mimetype": "text/x-python",
   "name": "python",
   "nbconvert_exporter": "python",
   "pygments_lexer": "ipython3",
   "version": "3.6.8"
  }
 },
 "nbformat": 4,
 "nbformat_minor": 2
}
